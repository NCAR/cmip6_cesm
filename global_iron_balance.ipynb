{
 "cells": [
  {
   "cell_type": "code",
   "execution_count": 2,
   "metadata": {},
   "outputs": [],
   "source": [
    "%matplotlib inline\n",
    "import matplotlib.pyplot as plt\n",
    "import matplotlib.gridspec as gridspec\n",
    "import matplotlib.colors as colors\n",
    "import cmocean\n",
    "\n",
    "import numpy as np\n",
    "import xarray as xr"
   ]
  },
  {
   "cell_type": "code",
   "execution_count": 6,
   "metadata": {},
   "outputs": [],
   "source": [
    "inputdata = '/glade/p/cesmdata/cseg/inputdata/ocn/pop/gx1v6/forcing'\n",
    "\n",
    "# note on the scale factor\n",
    "# units of Fe dataset are µmol/m^2/d --> nmol/cm^2/s\n",
    "# (µmol/m^2/d)(1d / 86400s)(10^9 nmol/mol)(1 mol/10^6 µmol)(1 m^2/10^4 cm^2)---> nmol/cm^2/s\n",
    "# 1e-4 / 86400. * 1e9 * 1e-6 = 1.1574074074074074e-06\n",
    "scale_factor = 1.1574e-6\n",
    "\n",
    "grid_file = '/glade/work/mclong/grids/POP_gx1v7.nc'\n",
    "\n",
    "feventflux_file = f'{inputdata}/feventflux_gx1v6_5gmol_cesm1_97_2017.nc'\n",
    "ds = xr.open_dataset(feventflux_file)\n",
    "ds = ds.rename({'FESEDFLUXIN':'FEVENTFLUXIN'})\n",
    "\n",
    "fesedflux_file = f'{inputdata}/fesedfluxTot_gx1v6_cesm2_2018_c180618.nc'\n",
    "ds = xr.merge((ds,xr.open_dataset(fesedflux_file)))\n",
    "ds = ds.rename({'x':'nlon','y':'nlat','z':'z_t'})\n",
    "\n",
    "ds['FESEDFLUXIN'] = ds.FESEDFLUXIN*scale_factor\n",
    "ds['FEVENTFLUXIN'] = ds.FEVENTFLUXIN*scale_factor\n",
    "\n",
    "ds.FESEDFLUXIN.attrs['units'] = 'nmol/cm^2/s'\n",
    "ds.FEVENTFLUXIN.attrs['units'] = 'nmol/cm^2/s'\n",
    "\n",
    "ds = xr.merge((ds,xr.open_dataset(grid_file,decode_coords=False)))\n"
   ]
  },
  {
   "cell_type": "code",
   "execution_count": 8,
   "metadata": {},
   "outputs": [
    {
     "data": {
      "text/plain": [
       "<xarray.DataArray ()>\n",
       "array(5.047964)"
      ]
     },
     "execution_count": 8,
     "metadata": {},
     "output_type": "execute_result"
    }
   ],
   "source": [
    "(ds.FEVENTFLUXIN * ds.TAREA).sum() * 1e-9 * 365 * 86400 * 1e-9"
   ]
  },
  {
   "cell_type": "code",
   "execution_count": 10,
   "metadata": {},
   "outputs": [
    {
     "data": {
      "text/plain": [
       "<xarray.DataArray ()>\n",
       "array(19.952493)"
      ]
     },
     "execution_count": 10,
     "metadata": {},
     "output_type": "execute_result"
    }
   ],
   "source": [
    "(ds.FESEDFLUXIN * ds.TAREA).sum() * 1e-9 * 365 * 86400 * 1e-9"
   ]
  },
  {
   "cell_type": "code",
   "execution_count": 4,
   "metadata": {},
   "outputs": [
    {
     "data": {
      "text/plain": [
       "<xarray.Dataset>\n",
       "Dimensions:                 (d2: 2, lat_aux_grid: 395, moc_comp: 3, moc_z: 61, nlat: 384, nlon: 320, time: 1980, transport_comp: 5, transport_reg: 2, z_t: 60, z_t_150m: 15, z_w: 60, z_w_bot: 60, z_w_top: 60)\n",
       "Coordinates:\n",
       "  * z_t                     (z_t) float32 500.0 1500.0 ... 512502.8 537500.0\n",
       "  * z_t_150m                (z_t_150m) float32 500.0 1500.0 ... 13500.0 14500.0\n",
       "  * z_w                     (z_w) float32 0.0 1000.0 ... 500004.7 525000.94\n",
       "  * z_w_top                 (z_w_top) float32 0.0 1000.0 ... 500004.7 525000.94\n",
       "  * z_w_bot                 (z_w_bot) float32 1000.0 2000.0 ... 549999.06\n",
       "  * lat_aux_grid            (lat_aux_grid) float32 -79.48815 -78.952896 ... 90.0\n",
       "  * moc_z                   (moc_z) float32 0.0 1000.0 ... 525000.94 549999.06\n",
       "    ULONG                   (nlat, nlon) float64 ...\n",
       "    ULAT                    (nlat, nlon) float64 ...\n",
       "    TLONG                   (nlat, nlon) float64 ...\n",
       "    TLAT                    (nlat, nlon) float64 ...\n",
       "  * time                    (time) float64 6.753e+05 6.753e+05 ... 7.355e+05\n",
       "Dimensions without coordinates: d2, moc_comp, nlat, nlon, transport_comp, transport_reg\n",
       "Data variables:\n",
       "    moc_components          (moc_comp) |S384 ...\n",
       "    transport_components    (transport_comp) |S384 ...\n",
       "    transport_regions       (transport_reg) |S384 ...\n",
       "    dz                      (z_t) float32 ...\n",
       "    dzw                     (z_w) float32 ...\n",
       "    KMT                     (nlat, nlon) float64 ...\n",
       "    KMU                     (nlat, nlon) float64 ...\n",
       "    REGION_MASK             (nlat, nlon) float64 ...\n",
       "    UAREA                   (nlat, nlon) float64 ...\n",
       "    TAREA                   (nlat, nlon) float64 ...\n",
       "    HU                      (nlat, nlon) float64 ...\n",
       "    HT                      (nlat, nlon) float64 ...\n",
       "    DXU                     (nlat, nlon) float64 ...\n",
       "    DYU                     (nlat, nlon) float64 ...\n",
       "    DXT                     (nlat, nlon) float64 ...\n",
       "    DYT                     (nlat, nlon) float64 ...\n",
       "    HTN                     (nlat, nlon) float64 ...\n",
       "    HTE                     (nlat, nlon) float64 ...\n",
       "    HUS                     (nlat, nlon) float64 ...\n",
       "    HUW                     (nlat, nlon) float64 ...\n",
       "    ANGLE                   (nlat, nlon) float64 ...\n",
       "    ANGLET                  (nlat, nlon) float64 ...\n",
       "    days_in_norm_year       float64 ...\n",
       "    grav                    float64 ...\n",
       "    omega                   float64 ...\n",
       "    radius                  float64 ...\n",
       "    cp_sw                   float64 ...\n",
       "    sound                   float64 ...\n",
       "    vonkar                  float64 ...\n",
       "    cp_air                  float64 ...\n",
       "    rho_air                 float64 ...\n",
       "    rho_sw                  float64 ...\n",
       "    rho_fw                  float64 ...\n",
       "    stefan_boltzmann        float64 ...\n",
       "    latent_heat_vapor       float64 ...\n",
       "    latent_heat_fusion      float64 ...\n",
       "    latent_heat_fusion_mks  float64 ...\n",
       "    ocn_ref_salinity        float64 ...\n",
       "    sea_ice_salinity        float64 ...\n",
       "    T0_Kelvin               float64 ...\n",
       "    salt_to_ppt             float64 ...\n",
       "    ppt_to_salt             float64 ...\n",
       "    mass_to_Sv              float64 ...\n",
       "    heat_to_PW              float64 ...\n",
       "    salt_to_Svppt           float64 ...\n",
       "    salt_to_mmday           float64 ...\n",
       "    momentum_factor         float64 ...\n",
       "    hflux_factor            float64 ...\n",
       "    fwflux_factor           float64 ...\n",
       "    salinity_factor         float64 ...\n",
       "    sflux_factor            float64 ...\n",
       "    nsurface_t              float64 ...\n",
       "    nsurface_u              float64 ...\n",
       "    time_bound              (time, d2) float64 ...\n",
       "    Fe_RIV_FLUX             (time, nlat, nlon) float32 ...\n",
       "Attributes:\n",
       "    title:             b.e21.BHIST.f09_g17.CMIP6-historical.001\n",
       "    history:           none\n",
       "    Conventions:       CF-1.0; http://www.cgd.ucar.edu/cms/eaton/netcdf/CF-cu...\n",
       "    time_period_freq:  month_1\n",
       "    model_doi_url:     https://doi.org/10.5065/D67H1H0V\n",
       "    contents:          Diagnostic and Prognostic Variables\n",
       "    source:            CCSM POP2, the CCSM Ocean Component\n",
       "    revision:          $Id: tavg.F90 89644 2018-08-04 14:26:01Z klindsay $\n",
       "    calendar:          All years have exactly  365 days.\n",
       "    start_time:        This dataset was created on 2018-10-03 at 12:59:45.7\n",
       "    cell_methods:      cell_methods = time: mean ==> the variable values are ..."
      ]
     },
     "execution_count": 4,
     "metadata": {},
     "output_type": "execute_result"
    }
   ],
   "source": [
    "ds = xr.open_dataset('/glade/collections/cdg/timeseries-cmip6/b.e21.BHIST.f09_g17.CMIP6-historical.001/ocn/proc/tseries/month_1/b.e21.BHIST.f09_g17.CMIP6-historical.001.pop.h.Fe_RIV_FLUX.185001-201412.nc',\n",
    "                     decode_times = False)\n",
    "ds"
   ]
  },
  {
   "cell_type": "code",
   "execution_count": 8,
   "metadata": {},
   "outputs": [],
   "source": [
    "riv_in = (ds.Fe_RIV_FLUX * ds.TAREA).sum(['nlat','nlon']).compute()*1e-9*1e-9*365.*86400."
   ]
  },
  {
   "cell_type": "code",
   "execution_count": 9,
   "metadata": {},
   "outputs": [
    {
     "data": {
      "text/plain": [
       "[<matplotlib.lines.Line2D at 0x2aab7b8540f0>]"
      ]
     },
     "execution_count": 9,
     "metadata": {},
     "output_type": "execute_result"
    },
    {
     "data": {
      "image/png": "[encoded data removed]",
      "text/plain": [
       "<Figure size 432x288 with 1 Axes>"
      ]
     },
     "metadata": {},
     "output_type": "display_data"
    }
   ],
   "source": [
    "riv_in.plot()"
   ]
  },
  {
   "cell_type": "code",
   "execution_count": 10,
   "metadata": {},
   "outputs": [
    {
     "data": {
      "text/plain": [
       "<xarray.DataArray ()>\n",
       "array(0.38016)"
      ]
     },
     "execution_count": 10,
     "metadata": {},
     "output_type": "execute_result"
    }
   ],
   "source": [
    "riv_in.mean()"
   ]
  },
  {
   "cell_type": "code",
   "execution_count": null,
   "metadata": {},
   "outputs": [],
   "source": []
  }
 ],
 "metadata": {
  "kernelspec": {
   "display_name": "Python 3",
   "language": "python",
   "name": "python3"
  },
  "language_info": {
   "codemirror_mode": {
    "name": "ipython",
    "version": 3
   },
   "file_extension": ".py",
   "mimetype": "text/x-python",
   "name": "python",
   "nbconvert_exporter": "python",
   "pygments_lexer": "ipython3",
   "version": "3.6.7"
  }
 },
 "nbformat": 4,
 "nbformat_minor": 2
}
