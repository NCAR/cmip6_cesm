{
 "cells": [
  {
   "cell_type": "code",
   "execution_count": 8,
   "metadata": {},
   "outputs": [],
   "source": [
    "%matplotlib inline\n",
    "import os\n",
    "import importlib\n",
    "\n",
    "import xarray as xr\n",
    "import numpy as np\n",
    "\n",
    "import project as P\n",
    "import data_catalog"
   ]
  },
  {
   "cell_type": "code",
   "execution_count": 36,
   "metadata": {},
   "outputs": [],
   "source": [
    "from dask.distributed import Client\n",
    "from dask_jobqueue import PBSCluster\n",
    "import dask\n",
    "\n",
    "USER = os.environ['USER']\n",
    "\n",
    "Nnodes = 4\n",
    "processes = 18\n",
    "project = 'NCGD0011'\n",
    "\n",
    "cluster = PBSCluster(queue='regular',\n",
    "                     cores = 18,\n",
    "                     processes = processes,\n",
    "                     memory = '100GB',          \n",
    "                     project = project,\n",
    "                     walltime = '04:00:00',\n",
    "                     local_directory=f'/glade/scratch/{USER}/dask-tmp')\n",
    "client = Client(cluster)\n",
    "cluster.scale(processes*Nnodes)"
   ]
  },
  {
   "cell_type": "markdown",
   "metadata": {},
   "source": [
    "Here is a summary of the things I need from you per our discussion this morning:\n",
    "1. Annual mean files of the sigma_coord variables\n",
    "2. Subset files of the North Pacific for the sigma_coord annmean variables\n",
    "**As soon as I can get back on the system I will send over the zero based indexing for the region of interest, nlat[start:end] nlong[start:end]\n",
    "\n",
    "3. The annmean, monclim, monanom files from the new case that includes 13C\n",
    "case = 'g.e21a01d.G1850ECOIAF.T62_g17.extraterr-fe.001'\n",
    "varlist = ['DIC', 'DI13C', 'CISO_DIC_d13C', 'ALK', 'TEMP', 'HMXL', 'SALT', 'Jint_100m_DIC', 'RHO', 'NO3', 'PO4']\n",
    "**I think the climatologies should be over the years 1983-2015... (to best match up with obs records of 1983-2017 and 1989-2016?)"
   ]
  },
  {
   "cell_type": "code",
   "execution_count": 46,
   "metadata": {},
   "outputs": [
    {
     "name": "stdout",
     "output_type": "stream",
     "text": [
      "active catalog: cesm_dple\n"
     ]
    }
   ],
   "source": [
    "importlib.reload(data_catalog)\n",
    "data_catalog.set_catalog('cesm_dple')"
   ]
  },
  {
   "cell_type": "code",
   "execution_count": 47,
   "metadata": {},
   "outputs": [
    {
     "data": {
      "text/plain": [
       "'cesm_dple'"
      ]
     },
     "execution_count": 47,
     "metadata": {},
     "output_type": "execute_result"
    }
   ],
   "source": [
    "data_catalog.get_catalog()"
   ]
  },
  {
   "cell_type": "code",
   "execution_count": 38,
   "metadata": {},
   "outputs": [
    {
     "name": "stderr",
     "output_type": "stream",
     "text": [
      "INFO:root:Applying operator: <function compute_ann_climatology at 0x2aab67969ae8>\n",
      "INFO:root:writing /glade/scratch/mclong/calcs/cmip6_cesm/processed_collections/hindcast_sigma_coord.000.annmean.NO3.nc\n"
     ]
    },
    {
     "data": {
      "text/plain": [
       "hindcast_sigma_coord.000.annmean.NO3"
      ]
     },
     "execution_count": 38,
     "metadata": {},
     "output_type": "execute_result"
    }
   ],
   "source": [
    "importlib.reload(P)\n",
    "\n",
    "for v in data_catalog.find_in_index(experiment='hindcast_sigma_coord').variable.unique():\n",
    "    co = P.process_data_source(analysis_name='annmean',\n",
    "                               experiment='hindcast_sigma_coord',\n",
    "                               variable=v, \n",
    "                               clobber=False)"
   ]
  },
  {
   "cell_type": "code",
   "execution_count": 48,
   "metadata": {},
   "outputs": [
    {
     "name": "stderr",
     "output_type": "stream",
     "text": [
      "INFO:root:Applying operator: <function compute_mon_anomaly at 0x2aab67969c80>\n",
      "INFO:root:writing /glade/scratch/mclong/calcs/cmip6_cesm/processed_collections/hindcast.000.monanom.FG_CO2.nc\n"
     ]
    }
   ],
   "source": [
    "v = 'FG_CO2'\n",
    "co = P.process_data_source(analysis_name='monanom',\n",
    "                               experiment='hindcast',\n",
    "                               variable=v, \n",
    "                               clobber=False)"
   ]
  },
  {
   "cell_type": "code",
   "execution_count": null,
   "metadata": {},
   "outputs": [
    {
     "name": "stderr",
     "output_type": "stream",
     "text": [
      "INFO:root:Applying operator: <function derive_var_MLD at 0x2aacb6768158>\n"
     ]
    }
   ],
   "source": [
    "importlib.reload(P)\n",
    "\n",
    "co = P.process_data_source(analysis_name='monanom',\n",
    "                               experiment='hindcast',\n",
    "                               variable='MLD_03',\n",
    "                               isderived=True,\n",
    "                               clobber=False)"
   ]
  },
  {
   "cell_type": "code",
   "execution_count": 64,
   "metadata": {},
   "outputs": [
    {
     "data": {
      "text/plain": [
       "{'case': ['g.e11_LENS.GECOIAF.T62_g16.009', 'g.e11_LENS.GECOIAF.T62_g16.009'],\n",
       " 'component': ['ocn', 'ocn'],\n",
       " 'date_range': [\"['024901', '031612']\", \"['024901', '031612']\"],\n",
       " 'ensemble': [0, 0],\n",
       " 'experiment': ['hindcast_sigma_coord', 'hindcast_sigma_coord'],\n",
       " 'file_basename': ['g.e11_LENS.GECOIAF.T62_g16.009.pop.h.sigma.SALT.024901-031612.nc',\n",
       "  'g.e11_LENS.GECOIAF.T62_g16.009.pop.h.sigma.TEMP.024901-031612.nc'],\n",
       " 'files': ['/glade/p/cgd/oce/projects/DPLE_O2/sigma_coord/CESM-DPLE_POPCICEhindcast/g.e11_LENS.GECOIAF.T62_g16.009.pop.h.sigma.SALT.024901-031612.nc',\n",
       "  '/glade/p/cgd/oce/projects/DPLE_O2/sigma_coord/CESM-DPLE_POPCICEhindcast/g.e11_LENS.GECOIAF.T62_g16.009.pop.h.sigma.TEMP.024901-031612.nc'],\n",
       " 'grid': ['POP_gx1v6', 'POP_gx1v6'],\n",
       " 'sequence_order': [0, 0],\n",
       " 'stream': ['pop.h.sigma', 'pop.h.sigma'],\n",
       " 'variable': ['SALT', 'TEMP'],\n",
       " 'year_offset': [1699, 1699],\n",
       " 'ctrl_branch_year': [nan, nan],\n",
       " 'has_ocean_bgc': [nan, nan]}"
      ]
     },
     "execution_count": 64,
     "metadata": {},
     "output_type": "execute_result"
    }
   ],
   "source": [
    "data_catalog.get_entries(experiment='hindcast_sigma_coord', variable=['SALT','TEMP'])"
   ]
  },
  {
   "cell_type": "code",
   "execution_count": null,
   "metadata": {},
   "outputs": [],
   "source": []
  }
 ],
 "metadata": {
  "kernelspec": {
   "display_name": "Python 3",
   "language": "python",
   "name": "python3"
  },
  "language_info": {
   "codemirror_mode": {
    "name": "ipython",
    "version": 3
   },
   "file_extension": ".py",
   "mimetype": "text/x-python",
   "name": "python",
   "nbconvert_exporter": "python",
   "pygments_lexer": "ipython3",
   "version": "3.6.7"
  }
 },
 "nbformat": 4,
 "nbformat_minor": 2
}
